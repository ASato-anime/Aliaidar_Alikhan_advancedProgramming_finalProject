{
 "cells": [
  {
   "cell_type": "markdown",
   "id": "db853811",
   "metadata": {},
   "source": [
    "# Let's import modules that we need"
   ]
  },
  {
   "cell_type": "code",
   "execution_count": 12,
   "id": "8b4ba3ed",
   "metadata": {},
   "outputs": [],
   "source": [
    "import tensorflow as tf\n",
    "import numpy as np\n",
    "import matplotlib.pyplot as plt"
   ]
  },
  {
   "cell_type": "markdown",
   "id": "ce9c307b",
   "metadata": {},
   "source": [
    "# Now, let's make data, generate synthetic data using a Hamiltonian.\n",
    "# Here, I simulate a qubit using the Pauli matrices. \n",
    "# The initial state is |0>, and the time evolution is given by e^(-iHt), where H is the Hamiltonian and t is the time."
   ]
  },
  {
   "cell_type": "code",
   "execution_count": 13,
   "id": "66057b05",
   "metadata": {},
   "outputs": [],
   "source": [
    "# Let's define the Pauli matrices\n",
    "\n",
    "sigma_x = np.array([[0, 1], [1, 0]])\n",
    "sigma_y = np.array([[0, -1j], [1j, 0]])\n",
    "sigma_z = np.array([[1, 0], [0, -1]])"
   ]
  },
  {
   "cell_type": "code",
   "execution_count": 14,
   "id": "8b230090",
   "metadata": {},
   "outputs": [],
   "source": [
    "# Let's define the Hamiltonian\n",
    "\n",
    "H = np.pi/2 * (sigma_x + sigma_y)"
   ]
  },
  {
   "cell_type": "code",
   "execution_count": 15,
   "id": "9e2ed186",
   "metadata": {},
   "outputs": [],
   "source": [
    "# Again let's define the initial state\n",
    "psi_0 = np.array([[1], [0]])\n",
    "\n",
    "# Also again let's define the time range\n",
    "t = np.linspace(0, 1, 100)"
   ]
  },
  {
   "cell_type": "code",
   "execution_count": 16,
   "id": "db8df524",
   "metadata": {},
   "outputs": [
    {
     "name": "stderr",
     "output_type": "stream",
     "text": [
      "C:\\Users\\gamea\\AppData\\Local\\Temp\\ipykernel_6928\\1263289536.py:7: ComplexWarning: Casting complex values to real discards the imaginary part\n",
      "  psi_t[i] = np.dot(U, psi_t[i-1])\n"
     ]
    }
   ],
   "source": [
    "# Compute the time evolution using the Schrödinger equation\n",
    "psi_t = np.zeros((len(t), 2, 1))\n",
    "psi_t[0] = psi_0\n",
    "for i in range(1, len(t)):\n",
    "    dt = t[i] - t[i-1]\n",
    "    U = np.eye(2) - 1j * H * dt\n",
    "    psi_t[i] = np.dot(U, psi_t[i-1])\n",
    "\n",
    "# Normalize and scale the input features\n",
    "psi_t_norm = psi_t/np.max(np.abs(psi_t))"
   ]
  },
  {
   "cell_type": "markdown",
   "id": "2ef05ebf",
   "metadata": {},
   "source": [
    "# And finaly, our data"
   ]
  },
  {
   "cell_type": "code",
   "execution_count": 17,
   "id": "8840f522",
   "metadata": {},
   "outputs": [],
   "source": [
    "X = psi_t_norm[:-1]\n",
    "y = psi_t_norm[1:]"
   ]
  },
  {
   "cell_type": "markdown",
   "id": "6935f88f",
   "metadata": {},
   "source": [
    "# And let's split our data into training and testing sets"
   ]
  },
  {
   "cell_type": "code",
   "execution_count": 18,
   "id": "aedab404",
   "metadata": {},
   "outputs": [],
   "source": [
    "split = int(len(X) * 0.8)\n",
    "X_train, y_train = X[:split], y[:split]\n",
    "X_test, y_test = X[split:], y[split:]"
   ]
  },
  {
   "cell_type": "markdown",
   "id": "801cc917",
   "metadata": {},
   "source": [
    "# I decided to use RNN with LSTM because it is designed to handle sequential data and can capture dependencies over time."
   ]
  },
  {
   "cell_type": "code",
   "execution_count": 19,
   "id": "f2f0c8f8",
   "metadata": {},
   "outputs": [
    {
     "name": "stdout",
     "output_type": "stream",
     "text": [
      "Epoch 1/100\n",
      "5/5 - 12s - loss: 0.4668 - val_loss: 0.4679 - 12s/epoch - 2s/step\n",
      "Epoch 2/100\n",
      "5/5 - 0s - loss: 0.4265 - val_loss: 0.4400 - 128ms/epoch - 26ms/step\n",
      "Epoch 3/100\n",
      "5/5 - 0s - loss: 0.3820 - val_loss: 0.4088 - 109ms/epoch - 22ms/step\n",
      "Epoch 4/100\n",
      "5/5 - 0s - loss: 0.3374 - val_loss: 0.3743 - 110ms/epoch - 22ms/step\n",
      "Epoch 5/100\n",
      "5/5 - 0s - loss: 0.2825 - val_loss: 0.3369 - 109ms/epoch - 22ms/step\n",
      "Epoch 6/100\n",
      "5/5 - 0s - loss: 0.2197 - val_loss: 0.2982 - 109ms/epoch - 22ms/step\n",
      "Epoch 7/100\n",
      "5/5 - 0s - loss: 0.1573 - val_loss: 0.2619 - 108ms/epoch - 22ms/step\n",
      "Epoch 8/100\n",
      "5/5 - 0s - loss: 0.1126 - val_loss: 0.2349 - 108ms/epoch - 22ms/step\n",
      "Epoch 9/100\n",
      "5/5 - 0s - loss: 0.0737 - val_loss: 0.2254 - 108ms/epoch - 22ms/step\n",
      "Epoch 10/100\n",
      "5/5 - 0s - loss: 0.0705 - val_loss: 0.2320 - 107ms/epoch - 21ms/step\n",
      "Epoch 11/100\n",
      "5/5 - 0s - loss: 0.0750 - val_loss: 0.2417 - 110ms/epoch - 22ms/step\n",
      "Epoch 12/100\n",
      "5/5 - 0s - loss: 0.0719 - val_loss: 0.2485 - 102ms/epoch - 20ms/step\n",
      "Epoch 13/100\n",
      "5/5 - 0s - loss: 0.0689 - val_loss: 0.2518 - 109ms/epoch - 22ms/step\n",
      "Epoch 14/100\n",
      "5/5 - 0s - loss: 0.0684 - val_loss: 0.2538 - 104ms/epoch - 21ms/step\n",
      "Epoch 15/100\n",
      "5/5 - 0s - loss: 0.0651 - val_loss: 0.2531 - 107ms/epoch - 21ms/step\n",
      "Epoch 16/100\n",
      "5/5 - 0s - loss: 0.0650 - val_loss: 0.2509 - 108ms/epoch - 22ms/step\n",
      "Epoch 17/100\n",
      "5/5 - 0s - loss: 0.0598 - val_loss: 0.2475 - 109ms/epoch - 22ms/step\n",
      "Epoch 18/100\n",
      "5/5 - 0s - loss: 0.0665 - val_loss: 0.2456 - 110ms/epoch - 22ms/step\n",
      "Epoch 19/100\n",
      "5/5 - 0s - loss: 0.0633 - val_loss: 0.2447 - 107ms/epoch - 21ms/step\n",
      "Epoch 20/100\n",
      "5/5 - 0s - loss: 0.0597 - val_loss: 0.2432 - 109ms/epoch - 22ms/step\n",
      "Epoch 21/100\n",
      "5/5 - 0s - loss: 0.0696 - val_loss: 0.2426 - 109ms/epoch - 22ms/step\n",
      "Epoch 22/100\n",
      "5/5 - 0s - loss: 0.0681 - val_loss: 0.2422 - 110ms/epoch - 22ms/step\n",
      "Epoch 23/100\n",
      "5/5 - 0s - loss: 0.0631 - val_loss: 0.2414 - 117ms/epoch - 23ms/step\n",
      "Epoch 24/100\n",
      "5/5 - 0s - loss: 0.0692 - val_loss: 0.2406 - 115ms/epoch - 23ms/step\n",
      "Epoch 25/100\n",
      "5/5 - 0s - loss: 0.0641 - val_loss: 0.2392 - 104ms/epoch - 21ms/step\n",
      "Epoch 26/100\n",
      "5/5 - 0s - loss: 0.0678 - val_loss: 0.2383 - 132ms/epoch - 26ms/step\n",
      "Epoch 27/100\n",
      "5/5 - 0s - loss: 0.0677 - val_loss: 0.2375 - 108ms/epoch - 22ms/step\n",
      "Epoch 28/100\n",
      "5/5 - 0s - loss: 0.0647 - val_loss: 0.2376 - 107ms/epoch - 21ms/step\n",
      "Epoch 29/100\n",
      "5/5 - 0s - loss: 0.0653 - val_loss: 0.2378 - 109ms/epoch - 22ms/step\n",
      "Epoch 30/100\n",
      "5/5 - 0s - loss: 0.0643 - val_loss: 0.2369 - 107ms/epoch - 21ms/step\n",
      "Epoch 31/100\n",
      "5/5 - 0s - loss: 0.0706 - val_loss: 0.2365 - 111ms/epoch - 22ms/step\n",
      "Epoch 32/100\n",
      "5/5 - 0s - loss: 0.0639 - val_loss: 0.2355 - 107ms/epoch - 21ms/step\n",
      "Epoch 33/100\n",
      "5/5 - 0s - loss: 0.0610 - val_loss: 0.2336 - 110ms/epoch - 22ms/step\n",
      "Epoch 34/100\n",
      "5/5 - 0s - loss: 0.0678 - val_loss: 0.2318 - 109ms/epoch - 22ms/step\n",
      "Epoch 35/100\n",
      "5/5 - 0s - loss: 0.0659 - val_loss: 0.2293 - 112ms/epoch - 22ms/step\n",
      "Epoch 36/100\n",
      "5/5 - 0s - loss: 0.0634 - val_loss: 0.2271 - 114ms/epoch - 23ms/step\n",
      "Epoch 37/100\n",
      "5/5 - 0s - loss: 0.0634 - val_loss: 0.2262 - 106ms/epoch - 21ms/step\n",
      "Epoch 38/100\n",
      "5/5 - 0s - loss: 0.0646 - val_loss: 0.2253 - 109ms/epoch - 22ms/step\n",
      "Epoch 39/100\n",
      "5/5 - 0s - loss: 0.0637 - val_loss: 0.2240 - 105ms/epoch - 21ms/step\n",
      "Epoch 40/100\n",
      "5/5 - 0s - loss: 0.0617 - val_loss: 0.2223 - 101ms/epoch - 20ms/step\n",
      "Epoch 41/100\n",
      "5/5 - 0s - loss: 0.0612 - val_loss: 0.2205 - 101ms/epoch - 20ms/step\n",
      "Epoch 42/100\n",
      "5/5 - 0s - loss: 0.0604 - val_loss: 0.2194 - 102ms/epoch - 20ms/step\n",
      "Epoch 43/100\n",
      "5/5 - 0s - loss: 0.0621 - val_loss: 0.2186 - 113ms/epoch - 23ms/step\n",
      "Epoch 44/100\n",
      "5/5 - 0s - loss: 0.0539 - val_loss: 0.2172 - 117ms/epoch - 23ms/step\n",
      "Epoch 45/100\n",
      "5/5 - 0s - loss: 0.0625 - val_loss: 0.2165 - 110ms/epoch - 22ms/step\n",
      "Epoch 46/100\n",
      "5/5 - 0s - loss: 0.0602 - val_loss: 0.2148 - 111ms/epoch - 22ms/step\n",
      "Epoch 47/100\n",
      "5/5 - 0s - loss: 0.0585 - val_loss: 0.2119 - 114ms/epoch - 23ms/step\n",
      "Epoch 48/100\n",
      "5/5 - 0s - loss: 0.0566 - val_loss: 0.2076 - 108ms/epoch - 22ms/step\n",
      "Epoch 49/100\n",
      "5/5 - 0s - loss: 0.0601 - val_loss: 0.2047 - 109ms/epoch - 22ms/step\n",
      "Epoch 50/100\n",
      "5/5 - 0s - loss: 0.0550 - val_loss: 0.2007 - 111ms/epoch - 22ms/step\n",
      "Epoch 51/100\n",
      "5/5 - 0s - loss: 0.0554 - val_loss: 0.1969 - 109ms/epoch - 22ms/step\n",
      "Epoch 52/100\n",
      "5/5 - 0s - loss: 0.0534 - val_loss: 0.1942 - 108ms/epoch - 22ms/step\n",
      "Epoch 53/100\n",
      "5/5 - 0s - loss: 0.0544 - val_loss: 0.1918 - 110ms/epoch - 22ms/step\n",
      "Epoch 54/100\n",
      "5/5 - 0s - loss: 0.0544 - val_loss: 0.1887 - 112ms/epoch - 22ms/step\n",
      "Epoch 55/100\n",
      "5/5 - 0s - loss: 0.0496 - val_loss: 0.1853 - 111ms/epoch - 22ms/step\n",
      "Epoch 56/100\n",
      "5/5 - 0s - loss: 0.0462 - val_loss: 0.1815 - 104ms/epoch - 21ms/step\n",
      "Epoch 57/100\n",
      "5/5 - 0s - loss: 0.0488 - val_loss: 0.1769 - 104ms/epoch - 21ms/step\n",
      "Epoch 58/100\n",
      "5/5 - 0s - loss: 0.0470 - val_loss: 0.1714 - 104ms/epoch - 21ms/step\n",
      "Epoch 59/100\n",
      "5/5 - 0s - loss: 0.0485 - val_loss: 0.1662 - 104ms/epoch - 21ms/step\n",
      "Epoch 60/100\n",
      "5/5 - 0s - loss: 0.0464 - val_loss: 0.1617 - 118ms/epoch - 24ms/step\n",
      "Epoch 61/100\n",
      "5/5 - 0s - loss: 0.0434 - val_loss: 0.1560 - 101ms/epoch - 20ms/step\n",
      "Epoch 62/100\n",
      "5/5 - 0s - loss: 0.0407 - val_loss: 0.1480 - 105ms/epoch - 21ms/step\n",
      "Epoch 63/100\n",
      "5/5 - 0s - loss: 0.0361 - val_loss: 0.1387 - 107ms/epoch - 21ms/step\n",
      "Epoch 64/100\n",
      "5/5 - 0s - loss: 0.0355 - val_loss: 0.1302 - 107ms/epoch - 21ms/step\n",
      "Epoch 65/100\n",
      "5/5 - 0s - loss: 0.0400 - val_loss: 0.1229 - 109ms/epoch - 22ms/step\n",
      "Epoch 66/100\n",
      "5/5 - 0s - loss: 0.0347 - val_loss: 0.1145 - 77ms/epoch - 15ms/step\n",
      "Epoch 67/100\n",
      "5/5 - 0s - loss: 0.0353 - val_loss: 0.1063 - 79ms/epoch - 16ms/step\n",
      "Epoch 68/100\n",
      "5/5 - 0s - loss: 0.0275 - val_loss: 0.0961 - 80ms/epoch - 16ms/step\n",
      "Epoch 69/100\n",
      "5/5 - 0s - loss: 0.0267 - val_loss: 0.0861 - 82ms/epoch - 16ms/step\n",
      "Epoch 70/100\n",
      "5/5 - 0s - loss: 0.0228 - val_loss: 0.0754 - 106ms/epoch - 21ms/step\n",
      "Epoch 71/100\n",
      "5/5 - 0s - loss: 0.0197 - val_loss: 0.0656 - 130ms/epoch - 26ms/step\n",
      "Epoch 72/100\n",
      "5/5 - 0s - loss: 0.0163 - val_loss: 0.0563 - 106ms/epoch - 21ms/step\n",
      "Epoch 73/100\n",
      "5/5 - 0s - loss: 0.0185 - val_loss: 0.0489 - 108ms/epoch - 22ms/step\n",
      "Epoch 74/100\n",
      "5/5 - 0s - loss: 0.0142 - val_loss: 0.0418 - 116ms/epoch - 23ms/step\n",
      "Epoch 75/100\n",
      "5/5 - 0s - loss: 0.0136 - val_loss: 0.0362 - 111ms/epoch - 22ms/step\n",
      "Epoch 76/100\n",
      "5/5 - 0s - loss: 0.0133 - val_loss: 0.0324 - 108ms/epoch - 22ms/step\n",
      "Epoch 77/100\n",
      "5/5 - 0s - loss: 0.0119 - val_loss: 0.0294 - 104ms/epoch - 21ms/step\n",
      "Epoch 78/100\n",
      "5/5 - 0s - loss: 0.0134 - val_loss: 0.0269 - 102ms/epoch - 20ms/step\n",
      "Epoch 79/100\n",
      "5/5 - 0s - loss: 0.0139 - val_loss: 0.0251 - 104ms/epoch - 21ms/step\n",
      "Epoch 80/100\n",
      "5/5 - 0s - loss: 0.0122 - val_loss: 0.0243 - 110ms/epoch - 22ms/step\n",
      "Epoch 81/100\n",
      "5/5 - 0s - loss: 0.0148 - val_loss: 0.0226 - 107ms/epoch - 21ms/step\n",
      "Epoch 82/100\n",
      "5/5 - 0s - loss: 0.0120 - val_loss: 0.0208 - 138ms/epoch - 28ms/step\n",
      "Epoch 83/100\n",
      "5/5 - 0s - loss: 0.0120 - val_loss: 0.0199 - 114ms/epoch - 23ms/step\n",
      "Epoch 84/100\n",
      "5/5 - 0s - loss: 0.0131 - val_loss: 0.0208 - 89ms/epoch - 18ms/step\n",
      "Epoch 85/100\n",
      "5/5 - 0s - loss: 0.0129 - val_loss: 0.0217 - 78ms/epoch - 16ms/step\n",
      "Epoch 86/100\n",
      "5/5 - 0s - loss: 0.0139 - val_loss: 0.0208 - 83ms/epoch - 17ms/step\n",
      "Epoch 87/100\n",
      "5/5 - 0s - loss: 0.0100 - val_loss: 0.0188 - 128ms/epoch - 26ms/step\n",
      "Epoch 88/100\n",
      "5/5 - 0s - loss: 0.0120 - val_loss: 0.0182 - 107ms/epoch - 21ms/step\n",
      "Epoch 89/100\n",
      "5/5 - 0s - loss: 0.0115 - val_loss: 0.0175 - 158ms/epoch - 32ms/step\n",
      "Epoch 90/100\n",
      "5/5 - 0s - loss: 0.0124 - val_loss: 0.0190 - 111ms/epoch - 22ms/step\n",
      "Epoch 91/100\n",
      "5/5 - 0s - loss: 0.0143 - val_loss: 0.0192 - 97ms/epoch - 19ms/step\n",
      "Epoch 92/100\n",
      "5/5 - 0s - loss: 0.0111 - val_loss: 0.0183 - 95ms/epoch - 19ms/step\n",
      "Epoch 93/100\n",
      "5/5 - 0s - loss: 0.0119 - val_loss: 0.0178 - 94ms/epoch - 19ms/step\n",
      "Epoch 94/100\n",
      "5/5 - 0s - loss: 0.0147 - val_loss: 0.0187 - 94ms/epoch - 19ms/step\n",
      "Epoch 95/100\n",
      "5/5 - 0s - loss: 0.0109 - val_loss: 0.0193 - 97ms/epoch - 19ms/step\n",
      "Epoch 96/100\n",
      "5/5 - 0s - loss: 0.0113 - val_loss: 0.0170 - 109ms/epoch - 22ms/step\n",
      "Epoch 97/100\n",
      "5/5 - 0s - loss: 0.0123 - val_loss: 0.0162 - 93ms/epoch - 19ms/step\n",
      "Epoch 98/100\n",
      "5/5 - 0s - loss: 0.0099 - val_loss: 0.0181 - 96ms/epoch - 19ms/step\n",
      "Epoch 99/100\n",
      "5/5 - 0s - loss: 0.0135 - val_loss: 0.0197 - 92ms/epoch - 18ms/step\n",
      "Epoch 100/100\n",
      "5/5 - 0s - loss: 0.0114 - val_loss: 0.0206 - 104ms/epoch - 21ms/step\n"
     ]
    },
    {
     "name": "stdout",
     "output_type": "stream",
     "text": [
      "1/1 [==============================] - 1s 1s/step\n",
      "4/4 [==============================] - 0s 10ms/step - loss: 0.0149\n",
      "4/4 [==============================] - 0s 5ms/step\n"
     ]
    }
   ],
   "source": [
    "model = tf.keras.Sequential([\n",
    "    tf.keras.layers.LSTM(64, input_shape=(X_train.shape[1], X_train.shape[2]), return_sequences=True),\n",
    "    tf.keras.layers.Dropout(0.2),\n",
    "    tf.keras.layers.LSTM(32, return_sequences=False),\n",
    "    tf.keras.layers.Dropout(0.2),\n",
    "    tf.keras.layers.Dense(2, activation='linear')\n",
    "])\n",
    "\n",
    "model.compile(loss='mse', optimizer='adam')\n",
    "\n",
    "\n",
    "history = model.fit(X_train, y_train, epochs=100, batch_size=16, validation_data=(X_test, y_test), verbose=2, shuffle=False)\n",
    "\n",
    "# Let's evaluatethe model\n",
    "y_pred = model.predict(X_test)\n",
    "\n",
    "model.fit(X, y)\n",
    "\n",
    "# Predicting of state amplitudes for the entire time interval\n",
    "y_pred = model.predict(X)"
   ]
  },
  {
   "cell_type": "markdown",
   "id": "c9c45968",
   "metadata": {},
   "source": [
    "# Plot the results"
   ]
  },
  {
   "cell_type": "code",
   "execution_count": 20,
   "id": "24dbb191",
   "metadata": {},
   "outputs": [
    {
     "data": {
      "image/png": "[encoded data removed]",
      "text/plain": [
       "<Figure size 432x288 with 1 Axes>"
      ]
     },
     "metadata": {
      "needs_background": "light"
     },
     "output_type": "display_data"
    }
   ],
   "source": [
    "plt.plot(t[1:], psi_t[1:, 0, 0], label='True')\n",
    "plt.plot(t[1:], y_pred[:, 0], label='Predicted')\n",
    "\n",
    "plt.xlabel('Time')\n",
    "plt.ylabel('State Amplitude')\n",
    "plt.legend()\n",
    "plt.show()"
   ]
  }
 ],
 "metadata": {
  "kernelspec": {
   "display_name": "Python 3 (ipykernel)",
   "language": "python",
   "name": "python3"
  },
  "language_info": {
   "codemirror_mode": {
    "name": "ipython",
    "version": 3
   },
   "file_extension": ".py",
   "mimetype": "text/x-python",
   "name": "python",
   "nbconvert_exporter": "python",
   "pygments_lexer": "ipython3",
   "version": "3.10.10"
  }
 },
 "nbformat": 4,
 "nbformat_minor": 5
}
